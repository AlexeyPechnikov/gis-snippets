{
 "cells": [
  {
   "cell_type": "markdown",
   "metadata": {},
   "source": [
    "MIT License\n",
    "\n",
    "Copyright (c) 2019 Alexey Pechnikov, https://orcid.org/0000-0001-9626-8615 (ORCID)\n",
    "\n",
    "Source dataset: Elevation1 - Mashhad, Iran\n",
    "\n",
    "Elevation1 DSM + Pléiades Ortho 0.5m pan-sharpened (Orthoimage included)\n",
    "\n",
    "https://www.intelligence-airbusds.com/en/9317-sample-imagery-detail?product=18896&keyword=&type=366"
   ]
  },
  {
   "cell_type": "code",
   "execution_count": null,
   "metadata": {},
   "outputs": [],
   "source": [
    "from osgeo import gdal\n",
    "import os\n",
    "import numpy as np\n",
    "import xarray as xr\n",
    "import pandas as pd\n",
    "from scipy.ndimage.filters import gaussian_filter\n",
    "from scipy.spatial import cKDTree\n",
    "\n",
    "import matplotlib.pyplot as plt\n",
    "import matplotlib.ticker as ticker\n",
    "%matplotlib inline"
   ]
  },
  {
   "cell_type": "code",
   "execution_count": null,
   "metadata": {},
   "outputs": [],
   "source": [
    "from scipy.ndimage.filters import gaussian_filter\n",
    "from scipy.stats import linregress\n",
    "\n",
    "# band filter\n",
    "def raster_filter_range(raster0, g1, g2):\n",
    "    raster = raster0.copy()\n",
    "    raster.values = raster.values.astype(np.float32)\n",
    "    raster.values = gaussian_filter(raster.values,g1) - gaussian_filter(raster.values,g2)\n",
    "    return raster"
   ]
  },
  {
   "cell_type": "code",
   "execution_count": null,
   "metadata": {},
   "outputs": [],
   "source": [
    "# select work area\n",
    "def crop_area(raster):\n",
    "    return raster.sel(x=slice(730000,730500),y=slice(4012000, 4011500))\n",
    "def crop_sample(raster):\n",
    "    return raster.sel(x=slice(730000,730100),y=slice(4011700,4011600))"
   ]
  },
  {
   "cell_type": "code",
   "execution_count": null,
   "metadata": {},
   "outputs": [],
   "source": [
    "def plot_fractality(ax, data):\n",
    "    ax.loglog(data.r, data, base=2, label='Calculated')\n",
    "    ax.set_xlabel('Wavelength, m', fontsize=18)\n",
    "\n",
    "    ax.axes.get_yaxis().set_visible(False)\n",
    "\n",
    "    ax.xaxis.set_major_formatter(ticker.FuncFormatter(lambda y, _: '{:g}'.format(y)))\n",
    "\n",
    "    res = linregress(np.log2(data.r), np.log2(data))\n",
    "    ax.plot(data.r, 2**(res.intercept + res.slope*np.log2(data.r)), 'r', label=f'Fitted R²={res.rvalue**2:.2f}', ls='--')\n",
    "\n",
    "    ax.legend(fontsize=18)\n",
    "\n",
    "    fractality = 1000*np.round((3 - (res.slope/2)),1)\n",
    "    return fractality"
   ]
  },
  {
   "cell_type": "markdown",
   "metadata": {},
   "source": [
    "### Load DEM"
   ]
  },
  {
   "cell_type": "code",
   "execution_count": null,
   "metadata": {},
   "outputs": [],
   "source": [
    "# DEM image\n",
    "dem = crop_area(xr.open_rasterio(\"data/Mashhad-DEM.tif\")[0])\n",
    "del dem.attrs['units']\n",
    "dem"
   ]
  },
  {
   "cell_type": "markdown",
   "metadata": {},
   "source": [
    "### Load orthophoto image"
   ]
  },
  {
   "cell_type": "code",
   "execution_count": null,
   "metadata": {},
   "outputs": [],
   "source": [
    "# orthophoto image 0.5m for the same area\n",
    "img = crop_area(xr.open_rasterio(\"data/7289-40126_Mashhad.tif\")[0])"
   ]
  },
  {
   "cell_type": "markdown",
   "metadata": {},
   "source": [
    "### Calculate spatial spectrum components"
   ]
  },
  {
   "cell_type": "code",
   "execution_count": null,
   "metadata": {},
   "outputs": [],
   "source": [
    "# check spatial components, [m]\n",
    "gammas = np.arange(1,128)\n",
    "\n",
    "img_power = xr.DataArray([raster_filter_range(img, g-1, g+1).std() for g in gammas],\n",
    "                          coords=[gammas],\n",
    "                          dims=['r'])\n",
    "dem_power = xr.DataArray([raster_filter_range(dem, g-1, g+1).std() for g in gammas],\n",
    "                          coords=[gammas],\n",
    "                          dims=['r'])"
   ]
  },
  {
   "cell_type": "code",
   "execution_count": null,
   "metadata": {},
   "outputs": [],
   "source": [
    "fig, (ax1, ax2) = plt.subplots(1, 2, figsize=(12, 6))\n",
    "\n",
    "dem.plot(ax=ax1)\n",
    "ax1.ticklabel_format(useOffset=False, style='plain')\n",
    "ax1.set_title('DSM 1m', fontsize=18)\n",
    "\n",
    "dem_fractality = plot_fractality(ax2, dem_power)\n",
    "ax2.set_title('Fractality Index', fontsize=18)\n",
    "ax2.axvline(x=60, ymin=0, ymax=1, color = 'black', ls='--', alpha=1)\n",
    "\n",
    "plt.suptitle(f\"Elevation1 DSM - Mashhad, Iran\\nFractality Density ρ={dem_fractality:.0f} kg/m³\", fontsize=22)\n",
    "fig.tight_layout(rect=[0.03, 0.03, .97, 0.97])\n",
    "#plt.savefig('Elevation1 DSM - Mashhad, Iran.jpg', dpi=150)\n",
    "plt.show()"
   ]
  },
  {
   "cell_type": "code",
   "execution_count": null,
   "metadata": {},
   "outputs": [],
   "source": [
    "# check spatial components, [m]\n",
    "gammas = np.arange(60,128)\n",
    "\n",
    "dem_power = xr.DataArray([raster_filter_range(dem, g-1, g+1).std() for g in gammas],\n",
    "                          coords=[gammas],\n",
    "                          dims=['r'])"
   ]
  },
  {
   "cell_type": "code",
   "execution_count": null,
   "metadata": {},
   "outputs": [],
   "source": [
    "fig, (ax1, ax2) = plt.subplots(1, 2, figsize=(12, 6))\n",
    "\n",
    "dem.plot(ax=ax1)\n",
    "ax1.ticklabel_format(useOffset=False, style='plain')\n",
    "ax1.set_title('DSM 1m', fontsize=18)\n",
    "\n",
    "dem_fractality = plot_fractality(ax2, dem_power)\n",
    "ax2.set_title('Fractality Index', fontsize=18)\n",
    "ax2.axvline(x=60, ymin=0, ymax=1, color = 'black', ls='--', alpha=1)\n",
    "\n",
    "plt.suptitle(f\"Elevation1 DSM - Mashhad, Iran\\nFractality Density ρ={dem_fractality:.0f} kg/m³\", fontsize=22)\n",
    "fig.tight_layout(rect=[0.03, 0.03, .97, 0.97])\n",
    "#plt.savefig('Elevation1 DSM - Mashhad, Iran.jpg', dpi=150)\n",
    "plt.show()"
   ]
  },
  {
   "cell_type": "code",
   "execution_count": null,
   "metadata": {},
   "outputs": [],
   "source": [
    "fig, (ax1, ax2) = plt.subplots(1, 2, figsize=(12, 6))\n",
    "\n",
    "img.plot(ax=ax1)\n",
    "ax1.ticklabel_format(useOffset=False, style='plain')\n",
    "ax1.set_title('Pléiades Ortho 0.5m', fontsize=18)\n",
    "\n",
    "img_fractality = plot_fractality(ax2, img_power)\n",
    "ax2.set_title('Fractality Index', fontsize=18)\n",
    "\n",
    "plt.suptitle(f\"Pléiades Ortho 0.5m - Mashhad, Iran\\nFractality Density ρ={img_fractality:.0f} kg/m³\", fontsize=22)\n",
    "fig.tight_layout(rect=[0.03, 0.03, .97, 0.97])\n",
    "#plt.savefig('Pléiades Ortho 0.5m - Mashhad, Iran.jpg', dpi=150)\n",
    "plt.show()"
   ]
  }
 ],
 "metadata": {
  "kernelspec": {
   "display_name": "Python 3",
   "language": "python",
   "name": "python3"
  },
  "language_info": {
   "codemirror_mode": {
    "name": "ipython",
    "version": 3
   },
   "file_extension": ".py",
   "mimetype": "text/x-python",
   "name": "python",
   "nbconvert_exporter": "python",
   "pygments_lexer": "ipython3",
   "version": "3.7.10"
  }
 },
 "nbformat": 4,
 "nbformat_minor": 2
}
